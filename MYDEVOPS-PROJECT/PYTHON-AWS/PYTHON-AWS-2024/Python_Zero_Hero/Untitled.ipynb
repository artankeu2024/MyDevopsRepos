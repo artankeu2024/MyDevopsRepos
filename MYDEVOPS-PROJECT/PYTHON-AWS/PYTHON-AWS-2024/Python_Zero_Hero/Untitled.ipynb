{
 "cells": [
  {
   "cell_type": "code",
   "execution_count": 24,
   "id": "90664cb7-bc3c-4a00-aa4a-04ed311ef418",
   "metadata": {},
   "outputs": [],
   "source": [
    "def even(num):\n",
    "    return num%2 == 0\n",
    "    "
   ]
  },
  {
   "cell_type": "code",
   "execution_count": 26,
   "id": "8ac19f42-fef8-438a-ae41-98c6ae9e151f",
   "metadata": {},
   "outputs": [
    {
     "data": {
      "text/plain": [
       "True"
      ]
     },
     "execution_count": 26,
     "metadata": {},
     "output_type": "execute_result"
    }
   ],
   "source": [
    "even(4)"
   ]
  },
  {
   "cell_type": "code",
   "execution_count": 193,
   "id": "1f7a4788-e360-4c7f-82cc-cab4651019ae",
   "metadata": {},
   "outputs": [],
   "source": [
    "def even_check(num_list):\n",
    "    mylist = []\n",
    "    for number in num_list:\n",
    "        if number % 2 == 0:\n",
    "            mylist.append(number)\n",
    "        else:\n",
    "            pass\n",
    "        \n",
    "            \n",
    "    return mylist\n",
    "            \n",
    "            "
   ]
  },
  {
   "cell_type": "code",
   "execution_count": 195,
   "id": "d5e21bab-bef0-4995-80e4-897fbd981d2a",
   "metadata": {},
   "outputs": [
    {
     "data": {
      "text/plain": [
       "[2, 10, 6]"
      ]
     },
     "execution_count": 195,
     "metadata": {},
     "output_type": "execute_result"
    }
   ],
   "source": [
    "even_check([1,2,3,10,6])"
   ]
  },
  {
   "cell_type": "code",
   "execution_count": 199,
   "id": "9000ceb7-2f4c-41d9-a690-ebafb19418d9",
   "metadata": {},
   "outputs": [
    {
     "name": "stdout",
     "output_type": "stream",
     "text": [
      "rayanne\n",
      "IdrissJR\n",
      "ariane\n"
     ]
    }
   ],
   "source": [
    "work_hours = [(\"rayanne\",40),(\"IdrissJR\",30), (\"ariane\", 60)]\n",
    "for name,hours in work_hours:\n",
    "    print(name)"
   ]
  },
  {
   "cell_type": "code",
   "execution_count": 217,
   "id": "daa2abe1-0e60-412f-ba5d-2c46daa9d8b2",
   "metadata": {},
   "outputs": [],
   "source": [
    "def true_false(num):\n",
    "    if true_false == True :\n",
    "       return \"Hello\"\n",
    "    else:\n",
    "        return \"Goodbye\"\n",
    "    "
   ]
  },
  {
   "cell_type": "markdown",
   "id": "473637a1-efde-4080-a13d-ec71f059266a",
   "metadata": {},
   "source": [
    "true_false(\"ariane\")"
   ]
  },
  {
   "cell_type": "markdown",
   "id": "4b9a1d01-4a7c-482d-bf84-1cd8297a8476",
   "metadata": {},
   "source": [
    "def myfunc(*args):\n",
    "    mylist = []\n",
    "    for num in args :\n",
    "       if num%2 == 0:\n",
    "           mylist.append(num)\n",
    "       else: pass\n",
    "           \n",
    "    return mylist"
   ]
  },
  {
   "cell_type": "code",
   "execution_count": 265,
   "id": "4368fd73-e3bc-4893-a9db-a408c3152caf",
   "metadata": {},
   "outputs": [
    {
     "data": {
      "text/plain": [
       "[2, 4, 6]"
      ]
     },
     "execution_count": 265,
     "metadata": {},
     "output_type": "execute_result"
    }
   ],
   "source": [
    "myfunc(2,3,4,5,6)"
   ]
  },
  {
   "cell_type": "code",
   "execution_count": 399,
   "id": "ddef5d38-97dd-43f5-9eb0-b75f342cd110",
   "metadata": {},
   "outputs": [],
   "source": [
    "def myfunc(mystring):\n",
    "    myemptystring = ''\n",
    "    myindex = 0\n",
    "    for letter in mystring:\n",
    "        if myindex%2 == 0:\n",
    "            myemptystring += letter.lower()\n",
    "        else :\n",
    "            myemptystring += letter.upper()\n",
    "        myindex += 1\n",
    "            \n",
    "    print(myemptystring)"
   ]
  },
  {
   "cell_type": "code",
   "execution_count": 401,
   "id": "ae5e29f5-a966-459e-9787-bb57a4884736",
   "metadata": {},
   "outputs": [
    {
     "name": "stdout",
     "output_type": "stream",
     "text": [
      "aRiAnE\n"
     ]
    }
   ],
   "source": [
    "myfunc(\"ariane\")"
   ]
  },
  {
   "cell_type": "code",
   "execution_count": 387,
   "id": "5bbfa2a9-c1ae-4959-8370-4f9f8eab729b",
   "metadata": {},
   "outputs": [],
   "source": [
    "def myfunc(word):\n",
    "    index = 0\n",
    "    result = ''\n",
    "\n",
    "    for letter in word:\n",
    "        if index % 2 == 0:\n",
    "            result += letter.lower()\n",
    "        else:\n",
    "            result += letter.upper()\n",
    "        index += 1\n",
    "    print(result)"
   ]
  },
  {
   "cell_type": "code",
   "execution_count": 389,
   "id": "112ad2c2-e17c-4d64-a5e8-dd263ef60ac4",
   "metadata": {},
   "outputs": [
    {
     "name": "stdout",
     "output_type": "stream",
     "text": [
      "aRiAnE\n"
     ]
    }
   ],
   "source": [
    "myfunc(\"ariane\")"
   ]
  },
  {
   "cell_type": "code",
   "execution_count": 441,
   "id": "023d96a1-9e23-4e62-9c2c-3ddede9cb9b0",
   "metadata": {},
   "outputs": [],
   "source": [
    "def myfunc(mystring):\n",
    "    myemptystring = ''\n",
    "    for index,letter in enumerate(mystring):\n",
    "        if index %2 == 0:\n",
    "            myemptystring = myemptystring + letter.lower()\n",
    "        else :\n",
    "            myemptystring = myemptystring + letter.upper()\n",
    "            \n",
    "    return myemptystring"
   ]
  },
  {
   "cell_type": "code",
   "execution_count": 443,
   "id": "66d08c3f-eaab-4478-ae7f-fd9734856eec",
   "metadata": {},
   "outputs": [
    {
     "data": {
      "text/plain": [
       "'aRiAnE'"
      ]
     },
     "execution_count": 443,
     "metadata": {},
     "output_type": "execute_result"
    }
   ],
   "source": [
    "myfunc('ariane')"
   ]
  },
  {
   "cell_type": "code",
   "execution_count": 430,
   "id": "d45601f6-24a4-4831-a190-45a9e3998b0f",
   "metadata": {},
   "outputs": [],
   "source": [
    "def myfunc(word):\n",
    "    result = \"\"\n",
    "    for index, letter in enumerate(word):\n",
    "        if index % 2 == 0:\n",
    "            result += letter.lower()\n",
    "        else:\n",
    "            result += letter.upper()\n",
    "    return result\n"
   ]
  },
  {
   "cell_type": "code",
   "execution_count": 445,
   "id": "8b18e9b3-56dc-4039-b12a-957d9876a692",
   "metadata": {},
   "outputs": [],
   "source": [
    "def myfunc(mystring):\n",
    "    myemptystring = \"\"\n",
    "    for index,letter in enumerate(mystring):\n",
    "        if index %2 == 0:\n",
    "            myemptystring = myemptystring + letter.lower()\n",
    "        else :\n",
    "            myemptystring = myemptystring + letter.upper()\n",
    "            \n",
    "    print(myemptystring)"
   ]
  },
  {
   "cell_type": "code",
   "execution_count": 447,
   "id": "cf704e89-54a3-43b9-b6f1-ef2a9eb70b63",
   "metadata": {},
   "outputs": [
    {
     "name": "stdout",
     "output_type": "stream",
     "text": [
      "aRiAnE\n"
     ]
    }
   ],
   "source": [
    "myfunc('ariane')"
   ]
  },
  {
   "cell_type": "code",
   "execution_count": null,
   "id": "7b856b0a-076e-43c4-b7e8-3a8f5f985e63",
   "metadata": {},
   "outputs": [],
   "source": [
    "def myfunc(mystring):\n",
    "    myemptystring = ''\n",
    "    myindex = 0\n",
    "    for letter in mystring:\n",
    "        if myindex%2 == 0:\n",
    "            myemptystring += letter.lower()\n",
    "        else :\n",
    "            myemptystring += letter.upper()\n",
    "        myindex += 1\n",
    "            \n",
    "    print(myemptystring)"
   ]
  }
 ],
 "metadata": {
  "kernelspec": {
   "display_name": "Python 3 (ipykernel)",
   "language": "python",
   "name": "python3"
  },
  "language_info": {
   "codemirror_mode": {
    "name": "ipython",
    "version": 3
   },
   "file_extension": ".py",
   "mimetype": "text/x-python",
   "name": "python",
   "nbconvert_exporter": "python",
   "pygments_lexer": "ipython3",
   "version": "3.12.7"
  }
 },
 "nbformat": 4,
 "nbformat_minor": 5
}
