{
 "cells": [
  {
   "cell_type": "code",
   "execution_count": null,
   "id": "90664cb7-bc3c-4a00-aa4a-04ed311ef418",
   "metadata": {},
   "outputs": [],
   "source": []
  }
 ],
 "metadata": {
  "kernelspec": {
   "display_name": "",
   "name": ""
  },
  "language_info": {
   "name": ""
  }
 },
 "nbformat": 4,
 "nbformat_minor": 5
}
